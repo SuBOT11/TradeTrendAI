{
 "cells": [
  {
   "cell_type": "code",
   "execution_count": 15,
   "metadata": {},
   "outputs": [],
   "source": [
    "import numpy as np\n",
    "import pandas as pd\n",
    "import matplotlib.pyplot as plt \n",
    "import datetime as dt\n",
    "from datetime import datetime\n",
    "from keras.callbacks import EarlyStopping,ReduceLROnPlateau,ModelCheckpoint,TensorBoard\n",
    "%matplotlib inline"
   ]
  },
  {
   "cell_type": "code",
   "execution_count": 16,
   "metadata": {},
   "outputs": [],
   "source": [
    "from rfe import df_selected"
   ]
  },
  {
   "cell_type": "code",
   "execution_count": 17,
   "metadata": {},
   "outputs": [],
   "source": [
    "df_selected = df_selected.sort_values(by='date',ascending=False)"
   ]
  },
  {
   "cell_type": "code",
   "execution_count": null,
   "metadata": {},
   "outputs": [],
   "source": []
  },
  {
   "cell_type": "code",
   "execution_count": 18,
   "metadata": {},
   "outputs": [],
   "source": [
    "training_set = df_selected.drop(columns=['date']).values\n",
    "datelist_train = list(df_selected['date'])"
   ]
  },
  {
   "cell_type": "code",
   "execution_count": 19,
   "metadata": {},
   "outputs": [
    {
     "data": {
      "text/plain": [
       "array([[ 0.09448686],\n",
       "       [ 0.09976683],\n",
       "       [ 0.14253456],\n",
       "       ...,\n",
       "       [-0.66028445],\n",
       "       [-0.69787782],\n",
       "       [-0.77142776]])"
      ]
     },
     "execution_count": 19,
     "metadata": {},
     "output_type": "execute_result"
    }
   ],
   "source": [
    "from sklearn.preprocessing import StandardScaler\n",
    "\n",
    "sc = StandardScaler()\n",
    "training_set_scaled = sc.fit_transform(training_set)\n",
    "\n",
    "sc_predict = StandardScaler()\n",
    "sc_predict.fit_transform(training_set[:, 0:1])"
   ]
  },
  {
   "cell_type": "code",
   "execution_count": 20,
   "metadata": {},
   "outputs": [
    {
     "name": "stdout",
     "output_type": "stream",
     "text": [
      "X_train shape == (1686, 60, 2).\n",
      "y_train shape == (1686, 1).\n"
     ]
    }
   ],
   "source": [
    "X_train = []\n",
    "y_train = []\n",
    "\n",
    "n_future = 14   # Number of days we want top predict into the future\n",
    "n_past = 60     # Number of past days we want to use to predict the future\n",
    "\n",
    "for i in range(n_past, len(training_set_scaled) - n_future +1):\n",
    "    X_train.append(training_set_scaled[i - n_past:i, 0:df_selected.shape[1] - 1])\n",
    "    y_train.append(training_set_scaled[i + n_future - 1:i + n_future, 0])\n",
    "\n",
    "X_train, y_train = np.array(X_train), np.array(y_train)\n",
    "\n",
    "print('X_train shape == {}.'.format(X_train.shape))\n",
    "print('y_train shape == {}.'.format(y_train.shape))"
   ]
  },
  {
   "cell_type": "code",
   "execution_count": 21,
   "metadata": {},
   "outputs": [],
   "source": [
    "from keras.models import Sequential\n",
    "from keras.layers import Dense\n",
    "from keras.layers import LSTM\n",
    "from keras.layers import Dropout\n",
    "from keras.optimizers import Adam"
   ]
  },
  {
   "cell_type": "code",
   "execution_count": 22,
   "metadata": {},
   "outputs": [],
   "source": [
    "# Initializing the Neural Network based on LSTM\n",
    "model = Sequential()\n",
    "\n",
    "# Adding 1st LSTM layer\n",
    "model.add(LSTM(units=50,activation='sigmoid', return_sequences=True, input_shape=(n_past, df_selected.shape[1]-1)))\n",
    "\n",
    "# Adding 2nd LSTM layer\n",
    "model.add(LSTM(units=50,activation='tanh', return_sequences=False))\n",
    "\n",
    "# Adding Dropout\n",
    "model.add(Dropout(0.1))\n",
    "\n",
    "# Output layer\n",
    "model.add(Dense(units=1, activation='linear'))\n",
    "\n",
    "# Compiling the Neural Network\n",
    "model.compile(optimizer = Adam(learning_rate=0.01), loss='mse')"
   ]
  },
  {
   "cell_type": "code",
   "execution_count": 23,
   "metadata": {},
   "outputs": [
    {
     "name": "stdout",
     "output_type": "stream",
     "text": [
      "Epoch 1/150\n",
      "\n",
      "Epoch 1: val_loss improved from inf to 0.01266, saving model to weights.h5\n",
      "337/337 - 11s - loss: 0.2004 - val_loss: 0.0127 - lr: 0.0100 - 11s/epoch - 33ms/step\n",
      "Epoch 2/150\n",
      "\n",
      "Epoch 2: val_loss did not improve from 0.01266\n",
      "337/337 - 6s - loss: 0.0584 - val_loss: 0.0234 - lr: 0.0100 - 6s/epoch - 17ms/step\n",
      "Epoch 3/150\n",
      "\n",
      "Epoch 3: val_loss did not improve from 0.01266\n",
      "337/337 - 6s - loss: 0.0545 - val_loss: 0.0298 - lr: 0.0100 - 6s/epoch - 18ms/step\n",
      "Epoch 4/150\n",
      "\n",
      "Epoch 4: val_loss improved from 0.01266 to 0.00853, saving model to weights.h5\n",
      "337/337 - 6s - loss: 0.0538 - val_loss: 0.0085 - lr: 0.0100 - 6s/epoch - 18ms/step\n",
      "Epoch 5/150\n",
      "\n",
      "Epoch 5: val_loss did not improve from 0.00853\n",
      "337/337 - 6s - loss: 0.0522 - val_loss: 0.0096 - lr: 0.0100 - 6s/epoch - 16ms/step\n",
      "Epoch 6/150\n",
      "\n",
      "Epoch 6: val_loss did not improve from 0.00853\n",
      "337/337 - 6s - loss: 0.0522 - val_loss: 0.0209 - lr: 0.0100 - 6s/epoch - 16ms/step\n",
      "Epoch 7/150\n",
      "\n",
      "Epoch 7: val_loss did not improve from 0.00853\n",
      "337/337 - 6s - loss: 0.0511 - val_loss: 0.0093 - lr: 0.0100 - 6s/epoch - 17ms/step\n",
      "Epoch 8/150\n",
      "\n",
      "Epoch 8: val_loss did not improve from 0.00853\n",
      "337/337 - 6s - loss: 0.0502 - val_loss: 0.0117 - lr: 0.0100 - 6s/epoch - 17ms/step\n",
      "Epoch 9/150\n",
      "\n",
      "Epoch 9: val_loss did not improve from 0.00853\n",
      "337/337 - 6s - loss: 0.0485 - val_loss: 0.0944 - lr: 0.0100 - 6s/epoch - 16ms/step\n",
      "Epoch 10/150\n",
      "\n",
      "Epoch 10: val_loss did not improve from 0.00853\n",
      "337/337 - 6s - loss: 0.0482 - val_loss: 0.0089 - lr: 0.0100 - 6s/epoch - 17ms/step\n",
      "Epoch 11/150\n",
      "\n",
      "Epoch 11: val_loss did not improve from 0.00853\n",
      "337/337 - 5s - loss: 0.0460 - val_loss: 0.0103 - lr: 0.0100 - 5s/epoch - 16ms/step\n",
      "Epoch 12/150\n",
      "\n",
      "Epoch 12: val_loss did not improve from 0.00853\n",
      "337/337 - 6s - loss: 0.0465 - val_loss: 0.0098 - lr: 0.0100 - 6s/epoch - 17ms/step\n",
      "Epoch 13/150\n",
      "\n",
      "Epoch 13: val_loss improved from 0.00853 to 0.00798, saving model to weights.h5\n",
      "337/337 - 6s - loss: 0.0494 - val_loss: 0.0080 - lr: 0.0100 - 6s/epoch - 17ms/step\n",
      "Epoch 14/150\n",
      "\n",
      "Epoch 14: val_loss improved from 0.00798 to 0.00740, saving model to weights.h5\n",
      "337/337 - 6s - loss: 0.0515 - val_loss: 0.0074 - lr: 0.0100 - 6s/epoch - 17ms/step\n",
      "Epoch 15/150\n",
      "\n",
      "Epoch 15: val_loss improved from 0.00740 to 0.00733, saving model to weights.h5\n",
      "337/337 - 6s - loss: 0.0490 - val_loss: 0.0073 - lr: 0.0100 - 6s/epoch - 17ms/step\n",
      "Epoch 16/150\n",
      "\n",
      "Epoch 16: val_loss did not improve from 0.00733\n",
      "337/337 - 6s - loss: 0.0517 - val_loss: 0.0164 - lr: 0.0100 - 6s/epoch - 17ms/step\n",
      "Epoch 17/150\n",
      "\n",
      "Epoch 17: val_loss did not improve from 0.00733\n",
      "337/337 - 6s - loss: 0.0507 - val_loss: 0.0104 - lr: 0.0100 - 6s/epoch - 17ms/step\n",
      "Epoch 18/150\n",
      "\n",
      "Epoch 18: val_loss did not improve from 0.00733\n",
      "337/337 - 6s - loss: 0.0491 - val_loss: 0.0075 - lr: 0.0100 - 6s/epoch - 17ms/step\n",
      "Epoch 19/150\n",
      "\n",
      "Epoch 19: val_loss did not improve from 0.00733\n",
      "337/337 - 6s - loss: 0.0456 - val_loss: 0.0231 - lr: 0.0100 - 6s/epoch - 17ms/step\n",
      "Epoch 20/150\n",
      "\n",
      "Epoch 20: val_loss improved from 0.00733 to 0.00687, saving model to weights.h5\n",
      "337/337 - 6s - loss: 0.0466 - val_loss: 0.0069 - lr: 0.0100 - 6s/epoch - 17ms/step\n",
      "Epoch 21/150\n",
      "\n",
      "Epoch 21: val_loss did not improve from 0.00687\n",
      "337/337 - 6s - loss: 0.0465 - val_loss: 0.0121 - lr: 0.0100 - 6s/epoch - 17ms/step\n",
      "Epoch 22/150\n",
      "\n",
      "Epoch 22: val_loss did not improve from 0.00687\n",
      "337/337 - 6s - loss: 0.0445 - val_loss: 0.0110 - lr: 0.0100 - 6s/epoch - 17ms/step\n",
      "Epoch 23/150\n",
      "\n",
      "Epoch 23: val_loss did not improve from 0.00687\n",
      "337/337 - 6s - loss: 0.0479 - val_loss: 0.0090 - lr: 0.0100 - 6s/epoch - 17ms/step\n",
      "Epoch 24/150\n",
      "\n",
      "Epoch 24: val_loss did not improve from 0.00687\n",
      "337/337 - 6s - loss: 0.0462 - val_loss: 0.0130 - lr: 0.0100 - 6s/epoch - 17ms/step\n",
      "Epoch 25/150\n",
      "\n",
      "Epoch 25: val_loss did not improve from 0.00687\n",
      "337/337 - 6s - loss: 0.0466 - val_loss: 0.0070 - lr: 0.0100 - 6s/epoch - 17ms/step\n",
      "Epoch 26/150\n",
      "\n",
      "Epoch 26: val_loss improved from 0.00687 to 0.00678, saving model to weights.h5\n",
      "337/337 - 6s - loss: 0.0438 - val_loss: 0.0068 - lr: 0.0100 - 6s/epoch - 17ms/step\n",
      "Epoch 27/150\n",
      "\n",
      "Epoch 27: val_loss did not improve from 0.00678\n",
      "337/337 - 6s - loss: 0.0441 - val_loss: 0.0102 - lr: 0.0100 - 6s/epoch - 17ms/step\n",
      "Epoch 28/150\n",
      "\n",
      "Epoch 28: val_loss improved from 0.00678 to 0.00671, saving model to weights.h5\n",
      "337/337 - 6s - loss: 0.0427 - val_loss: 0.0067 - lr: 0.0100 - 6s/epoch - 17ms/step\n",
      "Epoch 29/150\n",
      "\n",
      "Epoch 29: val_loss did not improve from 0.00671\n",
      "337/337 - 6s - loss: 0.0417 - val_loss: 0.0194 - lr: 0.0100 - 6s/epoch - 17ms/step\n",
      "Epoch 30/150\n",
      "\n",
      "Epoch 30: val_loss did not improve from 0.00671\n",
      "337/337 - 6s - loss: 0.0430 - val_loss: 0.0099 - lr: 0.0100 - 6s/epoch - 17ms/step\n",
      "Epoch 31/150\n",
      "\n",
      "Epoch 31: val_loss did not improve from 0.00671\n",
      "337/337 - 6s - loss: 0.0409 - val_loss: 0.0191 - lr: 0.0100 - 6s/epoch - 17ms/step\n",
      "Epoch 32/150\n",
      "\n",
      "Epoch 32: val_loss did not improve from 0.00671\n",
      "337/337 - 6s - loss: 0.0731 - val_loss: 0.0200 - lr: 0.0100 - 6s/epoch - 17ms/step\n",
      "Epoch 33/150\n",
      "\n",
      "Epoch 33: val_loss did not improve from 0.00671\n",
      "337/337 - 6s - loss: 0.0511 - val_loss: 0.0220 - lr: 0.0100 - 6s/epoch - 17ms/step\n",
      "Epoch 34/150\n",
      "\n",
      "Epoch 34: val_loss did not improve from 0.00671\n",
      "337/337 - 6s - loss: 0.0439 - val_loss: 0.0276 - lr: 0.0100 - 6s/epoch - 17ms/step\n",
      "Epoch 35/150\n",
      "\n",
      "Epoch 35: val_loss did not improve from 0.00671\n",
      "337/337 - 6s - loss: 0.0405 - val_loss: 0.0074 - lr: 0.0100 - 6s/epoch - 18ms/step\n",
      "Epoch 36/150\n",
      "\n",
      "Epoch 36: val_loss did not improve from 0.00671\n",
      "337/337 - 6s - loss: 0.0418 - val_loss: 0.0073 - lr: 0.0100 - 6s/epoch - 17ms/step\n",
      "Epoch 37/150\n",
      "\n",
      "Epoch 37: val_loss did not improve from 0.00671\n",
      "337/337 - 6s - loss: 0.0399 - val_loss: 0.0071 - lr: 0.0100 - 6s/epoch - 17ms/step\n",
      "Epoch 38/150\n",
      "\n",
      "Epoch 38: ReduceLROnPlateau reducing learning rate to 0.004999999888241291.\n",
      "\n",
      "Epoch 38: val_loss did not improve from 0.00671\n",
      "337/337 - 6s - loss: 0.0406 - val_loss: 0.0070 - lr: 0.0100 - 6s/epoch - 17ms/step\n",
      "Epoch 38: early stopping\n",
      "CPU times: user 6min 47s, sys: 2min 12s, total: 8min 59s\n",
      "Wall time: 3min 42s\n"
     ]
    }
   ],
   "source": [
    "%%time\n",
    "es = EarlyStopping(monitor='val_loss', min_delta=1e-10, patience=10, verbose=1)\n",
    "rlr = ReduceLROnPlateau(monitor='val_loss', factor=0.5, patience=10, verbose=1)\n",
    "mcp = ModelCheckpoint(filepath='weights.h5', monitor='val_loss', verbose=1, save_best_only=True, save_weights_only=True)\n",
    "\n",
    "tb = TensorBoard('logs')\n",
    "\n",
    "history = model.fit(X_train, y_train, shuffle=True, epochs=150, callbacks=[es, rlr, mcp, tb], validation_split=0.2, verbose=2, batch_size=4)"
   ]
  },
  {
   "cell_type": "code",
   "execution_count": 28,
   "metadata": {},
   "outputs": [
    {
     "name": "stdout",
     "output_type": "stream",
     "text": [
      "[Timestamp('2024-03-17 00:00:00'), Timestamp('2024-03-18 00:00:00'), Timestamp('2024-03-19 00:00:00'), Timestamp('2024-03-20 00:00:00'), Timestamp('2024-03-21 00:00:00'), Timestamp('2024-03-22 00:00:00'), Timestamp('2024-03-23 00:00:00'), Timestamp('2024-03-24 00:00:00'), Timestamp('2024-03-25 00:00:00'), Timestamp('2024-03-26 00:00:00'), Timestamp('2024-03-27 00:00:00'), Timestamp('2024-03-28 00:00:00'), Timestamp('2024-03-29 00:00:00'), Timestamp('2024-03-30 00:00:00')]\n"
     ]
    }
   ],
   "source": [
    "datelist_future = pd.date_range(datelist_train[1], periods=n_future, freq='1d').tolist()\n",
    "\n",
    "'''\n",
    "Remeber, we have datelist_train from begining.\n",
    "'''\n",
    "\n",
    "# Convert Pandas Timestamp to Datetime object (for transformation) --> FUTURE\n",
    "datelist_future_ = []\n",
    "for this_timestamp in datelist_future:\n",
    "    datelist_future_.append(this_timestamp.date())\n",
    "\n",
    "print(datelist_future)"
   ]
  },
  {
   "cell_type": "code",
   "execution_count": 29,
   "metadata": {},
   "outputs": [
    {
     "name": "stdout",
     "output_type": "stream",
     "text": [
      "1/1 [==============================] - 0s 25ms/step\n",
      "[[-0.6214144 ]\n",
      " [-0.6748079 ]\n",
      " [-0.74567497]\n",
      " [-0.7285125 ]\n",
      " [-0.71933055]\n",
      " [-0.6951562 ]\n",
      " [-0.6945288 ]\n",
      " [-0.74241066]\n",
      " [-0.7203219 ]\n",
      " [-0.6767551 ]\n",
      " [-0.65733516]\n",
      " [-0.71120775]\n",
      " [-0.71320057]\n",
      " [-0.7465439 ]]\n",
      "51/51 [==============================] - 0s 9ms/step\n"
     ]
    }
   ],
   "source": [
    "predictions_future = model.predict(X_train[-n_future:])\n",
    "print(predictions_future)\n",
    "\n",
    "predictions_train = model.predict(X_train[n_past:]) \n"
   ]
  },
  {
   "cell_type": "code",
   "execution_count": 30,
   "metadata": {},
   "outputs": [
    {
     "name": "stdout",
     "output_type": "stream",
     "text": [
      "[[615.07623]\n",
      " [619.3705 ]\n",
      " [616.4925 ]\n",
      " ...\n",
      " [263.40536]\n",
      " [263.02795]\n",
      " [256.7129 ]]\n"
     ]
    },
    {
     "data": {
      "text/html": [
       "<div>\n",
       "<style scoped>\n",
       "    .dataframe tbody tr th:only-of-type {\n",
       "        vertical-align: middle;\n",
       "    }\n",
       "\n",
       "    .dataframe tbody tr th {\n",
       "        vertical-align: top;\n",
       "    }\n",
       "\n",
       "    .dataframe thead th {\n",
       "        text-align: right;\n",
       "    }\n",
       "</style>\n",
       "<table border=\"1\" class=\"dataframe\">\n",
       "  <thead>\n",
       "    <tr style=\"text-align: right;\">\n",
       "      <th></th>\n",
       "      <th>Close</th>\n",
       "    </tr>\n",
       "  </thead>\n",
       "  <tbody>\n",
       "    <tr>\n",
       "      <th>2024-03-26</th>\n",
       "      <td>269.930542</td>\n",
       "    </tr>\n",
       "    <tr>\n",
       "      <th>2024-03-27</th>\n",
       "      <td>273.608582</td>\n",
       "    </tr>\n",
       "    <tr>\n",
       "      <th>2024-03-28</th>\n",
       "      <td>263.405365</td>\n",
       "    </tr>\n",
       "    <tr>\n",
       "      <th>2024-03-29</th>\n",
       "      <td>263.027954</td>\n",
       "    </tr>\n",
       "    <tr>\n",
       "      <th>2024-03-30</th>\n",
       "      <td>256.712891</td>\n",
       "    </tr>\n",
       "  </tbody>\n",
       "</table>\n",
       "</div>"
      ],
      "text/plain": [
       "                 Close\n",
       "2024-03-26  269.930542\n",
       "2024-03-27  273.608582\n",
       "2024-03-28  263.405365\n",
       "2024-03-29  263.027954\n",
       "2024-03-30  256.712891"
      ]
     },
     "execution_count": 30,
     "metadata": {},
     "output_type": "execute_result"
    }
   ],
   "source": [
    "\n",
    "def datetime_to_timestamp(x):\n",
    "    '''\n",
    "        x : a given datetime value (datetime.date)\n",
    "    '''\n",
    "    return datetime.strptime(x.strftime('%Y%m%d'), '%Y%m%d')\n",
    "\n",
    "\n",
    "y_pred_future = sc_predict.inverse_transform(predictions_future)\n",
    "y_pred_train = sc_predict.inverse_transform(predictions_train)\n",
    "print(y_pred_train)\n",
    "\n",
    "PREDICTIONS_FUTURE = pd.DataFrame(y_pred_future, columns=['Close']).set_index(pd.Series(datelist_future))\n",
    "PREDICTION_TRAIN = pd.DataFrame(y_pred_train, columns=['Close']).set_index(pd.Series(datelist_train[2 * n_past + n_future -1:]))\n",
    "\n",
    "# Convert <datetime.date> to <Timestamp> for PREDCITION_TRAIN\n",
    "PREDICTION_TRAIN.index = PREDICTION_TRAIN.index.to_series().apply(datetime_to_timestamp)\n",
    "\n",
    "PREDICTION_TRAIN.head(3)\n",
    "PREDICTIONS_FUTURE.tail()\n"
   ]
  },
  {
   "cell_type": "code",
   "execution_count": 27,
   "metadata": {},
   "outputs": [
    {
     "ename": "KeyError",
     "evalue": "'Value based partial slicing on non-monotonic DatetimeIndexes with non-existing keys is not allowed.'",
     "output_type": "error",
     "traceback": [
      "\u001b[0;31m---------------------------------------------------------------------------\u001b[0m",
      "\u001b[0;31mKeyError\u001b[0m                                  Traceback (most recent call last)",
      "Cell \u001b[0;32mIn[27], line 8\u001b[0m\n\u001b[1;32m      5\u001b[0m START_DATE_FOR_PLOTTING \u001b[38;5;241m=\u001b[39m \u001b[38;5;124m'\u001b[39m\u001b[38;5;124m2012-06-01\u001b[39m\u001b[38;5;124m'\u001b[39m\n\u001b[1;32m      7\u001b[0m plt\u001b[38;5;241m.\u001b[39mplot(PREDICTIONS_FUTURE\u001b[38;5;241m.\u001b[39mindex, PREDICTIONS_FUTURE[\u001b[38;5;124m'\u001b[39m\u001b[38;5;124mClose\u001b[39m\u001b[38;5;124m'\u001b[39m], color\u001b[38;5;241m=\u001b[39m\u001b[38;5;124m'\u001b[39m\u001b[38;5;124mr\u001b[39m\u001b[38;5;124m'\u001b[39m, label\u001b[38;5;241m=\u001b[39m\u001b[38;5;124m'\u001b[39m\u001b[38;5;124mPredicted Stock Price\u001b[39m\u001b[38;5;124m'\u001b[39m)\n\u001b[0;32m----> 8\u001b[0m plt\u001b[38;5;241m.\u001b[39mplot(\u001b[43mPREDICTION_TRAIN\u001b[49m\u001b[38;5;241;43m.\u001b[39;49m\u001b[43mloc\u001b[49m\u001b[43m[\u001b[49m\u001b[43mSTART_DATE_FOR_PLOTTING\u001b[49m\u001b[43m:\u001b[49m\u001b[43m]\u001b[49m\u001b[38;5;241m.\u001b[39mindex, PREDICTION_TRAIN\u001b[38;5;241m.\u001b[39mloc[START_DATE_FOR_PLOTTING:][\u001b[38;5;124m'\u001b[39m\u001b[38;5;124mClose\u001b[39m\u001b[38;5;124m'\u001b[39m], color\u001b[38;5;241m=\u001b[39m\u001b[38;5;124m'\u001b[39m\u001b[38;5;124morange\u001b[39m\u001b[38;5;124m'\u001b[39m, label\u001b[38;5;241m=\u001b[39m\u001b[38;5;124m'\u001b[39m\u001b[38;5;124mTraining predictions\u001b[39m\u001b[38;5;124m'\u001b[39m)\n\u001b[1;32m      9\u001b[0m plt\u001b[38;5;241m.\u001b[39mplot(df_selected\u001b[38;5;241m.\u001b[39mloc[START_DATE_FOR_PLOTTING:]\u001b[38;5;241m.\u001b[39mindex, df_selected\u001b[38;5;241m.\u001b[39mloc[START_DATE_FOR_PLOTTING:][\u001b[38;5;124m'\u001b[39m\u001b[38;5;124mClose\u001b[39m\u001b[38;5;124m'\u001b[39m], color\u001b[38;5;241m=\u001b[39m\u001b[38;5;124m'\u001b[39m\u001b[38;5;124mb\u001b[39m\u001b[38;5;124m'\u001b[39m, label\u001b[38;5;241m=\u001b[39m\u001b[38;5;124m'\u001b[39m\u001b[38;5;124mActual Stock Price\u001b[39m\u001b[38;5;124m'\u001b[39m)\n\u001b[1;32m     11\u001b[0m plt\u001b[38;5;241m.\u001b[39maxvline(x \u001b[38;5;241m=\u001b[39m \u001b[38;5;28mmin\u001b[39m(PREDICTIONS_FUTURE\u001b[38;5;241m.\u001b[39mindex), color\u001b[38;5;241m=\u001b[39m\u001b[38;5;124m'\u001b[39m\u001b[38;5;124mgreen\u001b[39m\u001b[38;5;124m'\u001b[39m, linewidth\u001b[38;5;241m=\u001b[39m\u001b[38;5;241m2\u001b[39m, linestyle\u001b[38;5;241m=\u001b[39m\u001b[38;5;124m'\u001b[39m\u001b[38;5;124m--\u001b[39m\u001b[38;5;124m'\u001b[39m)\n",
      "File \u001b[0;32m~/anaconda3/envs/data_prep/lib/python3.8/site-packages/pandas/core/indexing.py:1103\u001b[0m, in \u001b[0;36m_LocationIndexer.__getitem__\u001b[0;34m(self, key)\u001b[0m\n\u001b[1;32m   1100\u001b[0m axis \u001b[38;5;241m=\u001b[39m \u001b[38;5;28mself\u001b[39m\u001b[38;5;241m.\u001b[39maxis \u001b[38;5;129;01mor\u001b[39;00m \u001b[38;5;241m0\u001b[39m\n\u001b[1;32m   1102\u001b[0m maybe_callable \u001b[38;5;241m=\u001b[39m com\u001b[38;5;241m.\u001b[39mapply_if_callable(key, \u001b[38;5;28mself\u001b[39m\u001b[38;5;241m.\u001b[39mobj)\n\u001b[0;32m-> 1103\u001b[0m \u001b[38;5;28;01mreturn\u001b[39;00m \u001b[38;5;28;43mself\u001b[39;49m\u001b[38;5;241;43m.\u001b[39;49m\u001b[43m_getitem_axis\u001b[49m\u001b[43m(\u001b[49m\u001b[43mmaybe_callable\u001b[49m\u001b[43m,\u001b[49m\u001b[43m \u001b[49m\u001b[43maxis\u001b[49m\u001b[38;5;241;43m=\u001b[39;49m\u001b[43maxis\u001b[49m\u001b[43m)\u001b[49m\n",
      "File \u001b[0;32m~/anaconda3/envs/data_prep/lib/python3.8/site-packages/pandas/core/indexing.py:1323\u001b[0m, in \u001b[0;36m_LocIndexer._getitem_axis\u001b[0;34m(self, key, axis)\u001b[0m\n\u001b[1;32m   1321\u001b[0m \u001b[38;5;28;01mif\u001b[39;00m \u001b[38;5;28misinstance\u001b[39m(key, \u001b[38;5;28mslice\u001b[39m):\n\u001b[1;32m   1322\u001b[0m     \u001b[38;5;28mself\u001b[39m\u001b[38;5;241m.\u001b[39m_validate_key(key, axis)\n\u001b[0;32m-> 1323\u001b[0m     \u001b[38;5;28;01mreturn\u001b[39;00m \u001b[38;5;28;43mself\u001b[39;49m\u001b[38;5;241;43m.\u001b[39;49m\u001b[43m_get_slice_axis\u001b[49m\u001b[43m(\u001b[49m\u001b[43mkey\u001b[49m\u001b[43m,\u001b[49m\u001b[43m \u001b[49m\u001b[43maxis\u001b[49m\u001b[38;5;241;43m=\u001b[39;49m\u001b[43maxis\u001b[49m\u001b[43m)\u001b[49m\n\u001b[1;32m   1324\u001b[0m \u001b[38;5;28;01melif\u001b[39;00m com\u001b[38;5;241m.\u001b[39mis_bool_indexer(key):\n\u001b[1;32m   1325\u001b[0m     \u001b[38;5;28;01mreturn\u001b[39;00m \u001b[38;5;28mself\u001b[39m\u001b[38;5;241m.\u001b[39m_getbool_axis(key, axis\u001b[38;5;241m=\u001b[39maxis)\n",
      "File \u001b[0;32m~/anaconda3/envs/data_prep/lib/python3.8/site-packages/pandas/core/indexing.py:1355\u001b[0m, in \u001b[0;36m_LocIndexer._get_slice_axis\u001b[0;34m(self, slice_obj, axis)\u001b[0m\n\u001b[1;32m   1352\u001b[0m     \u001b[38;5;28;01mreturn\u001b[39;00m obj\u001b[38;5;241m.\u001b[39mcopy(deep\u001b[38;5;241m=\u001b[39m\u001b[38;5;28;01mFalse\u001b[39;00m)\n\u001b[1;32m   1354\u001b[0m labels \u001b[38;5;241m=\u001b[39m obj\u001b[38;5;241m.\u001b[39m_get_axis(axis)\n\u001b[0;32m-> 1355\u001b[0m indexer \u001b[38;5;241m=\u001b[39m \u001b[43mlabels\u001b[49m\u001b[38;5;241;43m.\u001b[39;49m\u001b[43mslice_indexer\u001b[49m\u001b[43m(\u001b[49m\u001b[43mslice_obj\u001b[49m\u001b[38;5;241;43m.\u001b[39;49m\u001b[43mstart\u001b[49m\u001b[43m,\u001b[49m\u001b[43m \u001b[49m\u001b[43mslice_obj\u001b[49m\u001b[38;5;241;43m.\u001b[39;49m\u001b[43mstop\u001b[49m\u001b[43m,\u001b[49m\u001b[43m \u001b[49m\u001b[43mslice_obj\u001b[49m\u001b[38;5;241;43m.\u001b[39;49m\u001b[43mstep\u001b[49m\u001b[43m)\u001b[49m\n\u001b[1;32m   1357\u001b[0m \u001b[38;5;28;01mif\u001b[39;00m \u001b[38;5;28misinstance\u001b[39m(indexer, \u001b[38;5;28mslice\u001b[39m):\n\u001b[1;32m   1358\u001b[0m     \u001b[38;5;28;01mreturn\u001b[39;00m \u001b[38;5;28mself\u001b[39m\u001b[38;5;241m.\u001b[39mobj\u001b[38;5;241m.\u001b[39m_slice(indexer, axis\u001b[38;5;241m=\u001b[39maxis)\n",
      "File \u001b[0;32m~/anaconda3/envs/data_prep/lib/python3.8/site-packages/pandas/core/indexes/datetimes.py:651\u001b[0m, in \u001b[0;36mDatetimeIndex.slice_indexer\u001b[0;34m(self, start, end, step)\u001b[0m\n\u001b[1;32m    648\u001b[0m     raise_mask \u001b[38;5;241m=\u001b[39m (end_casted \u001b[38;5;241m==\u001b[39m \u001b[38;5;28mself\u001b[39m) \u001b[38;5;241m|\u001b[39m raise_mask\n\u001b[1;32m    650\u001b[0m \u001b[38;5;28;01mif\u001b[39;00m \u001b[38;5;129;01mnot\u001b[39;00m raise_mask\u001b[38;5;241m.\u001b[39many():\n\u001b[0;32m--> 651\u001b[0m     \u001b[38;5;28;01mraise\u001b[39;00m \u001b[38;5;167;01mKeyError\u001b[39;00m(\n\u001b[1;32m    652\u001b[0m         \u001b[38;5;124m\"\u001b[39m\u001b[38;5;124mValue based partial slicing on non-monotonic DatetimeIndexes \u001b[39m\u001b[38;5;124m\"\u001b[39m\n\u001b[1;32m    653\u001b[0m         \u001b[38;5;124m\"\u001b[39m\u001b[38;5;124mwith non-existing keys is not allowed.\u001b[39m\u001b[38;5;124m\"\u001b[39m,\n\u001b[1;32m    654\u001b[0m     )\n\u001b[1;32m    655\u001b[0m indexer \u001b[38;5;241m=\u001b[39m mask\u001b[38;5;241m.\u001b[39mnonzero()[\u001b[38;5;241m0\u001b[39m][::step]\n\u001b[1;32m    656\u001b[0m \u001b[38;5;28;01mif\u001b[39;00m \u001b[38;5;28mlen\u001b[39m(indexer) \u001b[38;5;241m==\u001b[39m \u001b[38;5;28mlen\u001b[39m(\u001b[38;5;28mself\u001b[39m):\n",
      "\u001b[0;31mKeyError\u001b[0m: 'Value based partial slicing on non-monotonic DatetimeIndexes with non-existing keys is not allowed.'"
     ]
    },
    {
     "data": {
      "image/png": "[encoded data removed]",
      "text/plain": [
       "<Figure size 1400x500 with 1 Axes>"
      ]
     },
     "metadata": {},
     "output_type": "display_data"
    }
   ],
   "source": [
    "from pylab import rcParams\n",
    "rcParams['figure.figsize'] = 14, 5\n",
    "\n",
    "# Plot parameters\n",
    "START_DATE_FOR_PLOTTING = '2012-06-01'\n",
    "\n",
    "plt.plot(PREDICTIONS_FUTURE.index, PREDICTIONS_FUTURE['Close'], color='r', label='Predicted Stock Price')\n",
    "plt.plot(PREDICTION_TRAIN.loc[START_DATE_FOR_PLOTTING:].index, PREDICTION_TRAIN.loc[START_DATE_FOR_PLOTTING:]['Close'], color='orange', label='Training predictions')\n",
    "plt.plot(df_selected.loc[START_DATE_FOR_PLOTTING:].index, df_selected.loc[START_DATE_FOR_PLOTTING:]['Close'], color='b', label='Actual Stock Price')\n",
    "\n",
    "plt.axvline(x = min(PREDICTIONS_FUTURE.index), color='green', linewidth=2, linestyle='--')\n",
    "\n",
    "plt.grid(which='major', color='#cccccc', alpha=0.5)\n",
    "\n",
    "plt.legend(shadow=True)\n",
    "plt.title('Predcitions and Acutal Stock Prices', family='Arial', fontsize=12)\n",
    "plt.xlabel('Timeline', family='Arial', fontsize=10)\n",
    "plt.ylabel('Stock Price Value', family='Arial', fontsize=10)\n",
    "plt.xticks(rotation=45, fontsize=8)\n",
    "plt.show()"
   ]
  },
  {
   "cell_type": "code",
   "execution_count": null,
   "metadata": {},
   "outputs": [],
   "source": []
  }
 ],
 "metadata": {
  "kernelspec": {
   "display_name": "data_prep",
   "language": "python",
   "name": "python3"
  },
  "language_info": {
   "codemirror_mode": {
    "name": "ipython",
    "version": 3
   },
   "file_extension": ".py",
   "mimetype": "text/x-python",
   "name": "python",
   "nbconvert_exporter": "python",
   "pygments_lexer": "ipython3",
   "version": "3.8.18"
  }
 },
 "nbformat": 4,
 "nbformat_minor": 2
}
