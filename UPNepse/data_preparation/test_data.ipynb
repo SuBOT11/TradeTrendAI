{
 "cells": [
  {
   "cell_type": "code",
   "execution_count": 29,
   "metadata": {},
   "outputs": [
    {
     "name": "stdout",
     "output_type": "stream",
     "text": [
      "         Date ID Total_Transactions Total_Quantity  Average_Rate\n",
      "0  2023-01-01  1                  1            100          10.0\n",
      "1  2023-01-01  2                  2            250          12.5\n",
      "2  2023-01-01  3                  1            150          15.0\n",
      "3  2023-01-02  1                  2            300          15.0\n",
      "4  2023-01-02  2                  1            120          12.0\n",
      "5  2023-01-02  3                  1            180          18.0\n"
     ]
    }
   ],
   "source": [
    "import pandas as pd\n",
    "\n",
    "# Sample data\n",
    "data = {\n",
    "    'date': ['2023-01-01', '2023-01-01', '2023-01-02', '2023-01-02'],\n",
    "    'buyer_id': [1, 2, 1, 3],\n",
    "    'seller_id': [2, 3, 2, 1],\n",
    "    'rate': [10, 15, 12, 18],\n",
    "    'quantity': [100, 150, 120, 180]\n",
    "}\n",
    "\n",
    "df = pd.DataFrame(data)\n",
    "\n",
    "# Extract unique IDs from both 'buyer_id' and 'seller_id'\n",
    "unique_ids = pd.concat([df['buyer_id'], df['seller_id']]).unique()\n",
    "\n",
    "# Create a summary table\n",
    "summary_table = pd.DataFrame(columns=['Date', 'ID', 'Total_Transactions', 'Total_Quantity', 'Average_Rate'])\n",
    "\n",
    "# Iterate over unique dates\n",
    "for date in df['date'].unique():\n",
    "    date_df = df[df['date'] == date]\n",
    "\n",
    "    # Count the total transactions, total quantity, and average rate for each unique ID on the specific date\n",
    "    for specific_id in unique_ids:\n",
    "        specific_id_df = date_df[(date_df['buyer_id'] == specific_id) | (date_df['seller_id'] == specific_id)]\n",
    "        total_transactions = len(specific_id_df)\n",
    "        total_quantity = specific_id_df['quantity'].sum()\n",
    "        average_rate = specific_id_df['rate'].mean()\n",
    "\n",
    "        summary_table = pd.concat([summary_table, pd.DataFrame({\n",
    "            'Date': [date],\n",
    "            'ID': [specific_id],\n",
    "            'Total_Transactions': [total_transactions],\n",
    "            'Total_Quantity': [total_quantity],\n",
    "            'Average_Rate': [average_rate]\n",
    "        })], ignore_index=True)\n",
    "\n",
    "# Display the summary table\n",
    "print(summary_table)"
   ]
  },
  {
   "cell_type": "code",
   "execution_count": null,
   "metadata": {},
   "outputs": [],
   "source": []
  }
 ],
 "metadata": {
  "kernelspec": {
   "display_name": "data_prep",
   "language": "python",
   "name": "python3"
  },
  "language_info": {
   "codemirror_mode": {
    "name": "ipython",
    "version": 3
   },
   "file_extension": ".py",
   "mimetype": "text/x-python",
   "name": "python",
   "nbconvert_exporter": "python",
   "pygments_lexer": "ipython3",
   "version": "3.8.18"
  }
 },
 "nbformat": 4,
 "nbformat_minor": 2
}
